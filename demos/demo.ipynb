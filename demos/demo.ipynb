{
 "cells": [
  {
   "cell_type": "markdown",
   "metadata": {},
   "source": [
    "# Pyfer Demo"
   ]
  },
  {
   "cell_type": "markdown",
   "metadata": {},
   "source": [
    "Hello! This is a demonstration of the basic functionality of Pyfer. Below we will use Pyfer to encrypt and decrypt some messages. Make sure Pyfer is installed using **pip install pyfer**."
   ]
  },
  {
   "cell_type": "code",
   "execution_count": 1,
   "metadata": {},
   "outputs": [],
   "source": [
    "# import necessary libraries\n",
    "import numpy as np"
   ]
  },
  {
   "cell_type": "markdown",
   "metadata": {},
   "source": [
    "## Encryption"
   ]
  },
  {
   "cell_type": "markdown",
   "metadata": {},
   "source": [
    "To encrypt a message with Pyfer, we need three things:\n",
    "1. A message to encrypt\n",
    "2. A encryption key\n",
    "3. An encryption machine"
   ]
  },
  {
   "cell_type": "markdown",
   "metadata": {},
   "source": [
    "Let's say we want to encrypt the following message:"
   ]
  },
  {
   "cell_type": "code",
   "execution_count": 2,
   "metadata": {},
   "outputs": [],
   "source": [
    "message = 'Hello_world!_I_am_a_message_in_a_bottle.'"
   ]
  },
  {
   "cell_type": "markdown",
   "metadata": {},
   "source": [
    "We have a message, so now we need an encryption key. This key is a string of digits that enables us to encrypt and decrypt the message. We can use the following key, for example:"
   ]
  },
  {
   "cell_type": "code",
   "execution_count": 3,
   "metadata": {},
   "outputs": [],
   "source": [
    "key = '332537306252653660'"
   ]
  },
  {
   "cell_type": "markdown",
   "metadata": {},
   "source": [
    "We can also use Pyfer to generate a random key for us. We do this by importing the **keys** module, and then calling **generate_key**, passing some integer *n* as an argument. The function will return a randomly generated key of length *n*:"
   ]
  },
  {
   "cell_type": "code",
   "execution_count": 4,
   "metadata": {},
   "outputs": [],
   "source": [
    "# import the Pyfer's \"keys\" module\n",
    "from pyfer import keys"
   ]
  },
  {
   "cell_type": "code",
   "execution_count": 5,
   "metadata": {},
   "outputs": [
    {
     "data": {
      "text/plain": [
       "'421767516850711425'"
      ]
     },
     "execution_count": 5,
     "metadata": {},
     "output_type": "execute_result"
    }
   ],
   "source": [
    "# generate a random key\n",
    "keys.generate_key(18)"
   ]
  },
  {
   "cell_type": "markdown",
   "metadata": {},
   "source": [
    "It doesn't make a difference whether we use the generate_key function or just come up with our own key, as long as it is either 12, 16, or 18 digits long depending on the kind of encryption we want (see **Encryption Modes** section below). It is also important to keep the key safe, because it is also used to decrypt the message."
   ]
  },
  {
   "cell_type": "markdown",
   "metadata": {},
   "source": [
    "The final step is to create the encryption machine. This is what does the actual encrypting and decrypting (a bit like the Enigma machine). To create the Pyfer object, we import the **crypt** module and instantiate the **Machine** class, passing our key as an argument:"
   ]
  },
  {
   "cell_type": "code",
   "execution_count": 6,
   "metadata": {},
   "outputs": [],
   "source": [
    "# import the Pyfer's \"crypt\" module\n",
    "from pyfer import crypt"
   ]
  },
  {
   "cell_type": "code",
   "execution_count": 7,
   "metadata": {},
   "outputs": [],
   "source": [
    "# instantiate the Pyfer object with some key\n",
    "my_encryption_machine = crypt.Machine('332537306252653660')"
   ]
  },
  {
   "cell_type": "markdown",
   "metadata": {},
   "source": [
    "And that's that! We can now use our Pyfer Crypt Machine, along with our key, to encrypt the message. We do this by calling the **scramble** method from our machine and passing the message as an argument:"
   ]
  },
  {
   "cell_type": "code",
   "execution_count": 8,
   "metadata": {},
   "outputs": [
    {
     "data": {
      "text/plain": [
       "'(-<w/.7H<!nTadhHHNuD?zZoz7/%O6omgZt%qXeW'"
      ]
     },
     "execution_count": 8,
     "metadata": {},
     "output_type": "execute_result"
    }
   ],
   "source": [
    "# call the scramble method to encrypt a message\n",
    "my_encryption_machine.scramble('Hello_world!_I_am_a_message_in_a_bottle.')"
   ]
  },
  {
   "cell_type": "markdown",
   "metadata": {},
   "source": [
    "## Decryption"
   ]
  },
  {
   "cell_type": "markdown",
   "metadata": {},
   "source": [
    "To decrypt a message, we need the same three things: a message, a key, and a Pyfer Crypt Machine. If we use the same key as before, we can decrypt the message from above by using the **unscramble** method, like so:"
   ]
  },
  {
   "cell_type": "code",
   "execution_count": 9,
   "metadata": {},
   "outputs": [
    {
     "data": {
      "text/plain": [
       "'Hello_world!_I_am_a_message_in_a_bottle.'"
      ]
     },
     "execution_count": 9,
     "metadata": {},
     "output_type": "execute_result"
    }
   ],
   "source": [
    "# call the unscramble method to decrypt the message\n",
    "my_encryption_machine.unscramble('(-<w/.7H<!nTadhHHNuD?zZoz7/%O6omgZt%qXeW')"
   ]
  },
  {
   "cell_type": "markdown",
   "metadata": {},
   "source": [
    "Or, if we have received an encrypted message: "
   ]
  },
  {
   "cell_type": "markdown",
   "metadata": {},
   "source": [
    "    n,_uTDI((o1s8T/atQru73Lt3lnTcnhmGbotylnzoXpy=E,recVXM6oovVzZ8d<!"
   ]
  },
  {
   "cell_type": "markdown",
   "metadata": {},
   "source": [
    "Along with a key:"
   ]
  },
  {
   "cell_type": "markdown",
   "metadata": {},
   "source": [
    "    677537741218840487"
   ]
  },
  {
   "cell_type": "markdown",
   "metadata": {},
   "source": [
    "We can decrypt the message by creating a new Machine object, passing in the key, and then calling the unscramble method on the message:"
   ]
  },
  {
   "cell_type": "code",
   "execution_count": 10,
   "metadata": {},
   "outputs": [],
   "source": [
    "# instantiate a new Pyfer object with the key received\n",
    "new_machine = crypt.Machine('677537741218840487')"
   ]
  },
  {
   "cell_type": "code",
   "execution_count": 11,
   "metadata": {},
   "outputs": [
    {
     "data": {
      "text/plain": [
       "'Meet_outside_the_embassy_at_quarter_past_9._Love,_James_Bond_xox'"
      ]
     },
     "execution_count": 11,
     "metadata": {},
     "output_type": "execute_result"
    }
   ],
   "source": [
    "# call the unscramble method to decrypt the message\n",
    "new_machine.unscramble('n,_uTDI((o1s8T/atQru73Lt3lnTcnhmGbotylnzoXpy=E,recVXM6oovVzZ8d<!')"
   ]
  },
  {
   "cell_type": "markdown",
   "metadata": {},
   "source": [
    "Or we can do the whole thing in one line:"
   ]
  },
  {
   "cell_type": "code",
   "execution_count": 12,
   "metadata": {},
   "outputs": [
    {
     "data": {
      "text/plain": [
       "'Hi_there!_This_is_a_secret_message'"
      ]
     },
     "execution_count": 12,
     "metadata": {},
     "output_type": "execute_result"
    }
   ],
   "source": [
    "crypt.Machine('318185401138357281').unscramble(')(_Ra$()$av!DiDU6;Dz?Rmm3Z_zeb2AVl')"
   ]
  },
  {
   "cell_type": "markdown",
   "metadata": {},
   "source": [
    "## Encryption Modes"
   ]
  },
  {
   "cell_type": "markdown",
   "metadata": {},
   "source": [
    "Pyfer can encrypt messages in 3 ways, each using a different list of characters. All three modes require the message to be at least 2 characters long, and contain an even number of characters."
   ]
  },
  {
   "cell_type": "markdown",
   "metadata": {},
   "source": [
    "**Mode 1** accepts and uses a small list of characters: \n",
    "\n",
    "['a', 'b', 'c', 'd', 'e', 'f', 'g', 'h', 'i', 'j', 'k', 'l', 'm', 'n', 'o', 'p', 'q', 'r', 's', 't', 'u', 'v', 'w', 'x', 'y', 'z', '0', '1', '2', '3', '4', '5', '6', '7', '8', '9'] \n",
    "\n",
    "ie, lowercase letters and numerical digits. "
   ]
  },
  {
   "cell_type": "markdown",
   "metadata": {},
   "source": [
    "**Mode 2** accepts and uses a more extensive list of characters: \n",
    "\n",
    "['a', 'b', 'c', 'd', 'e', 'f', 'g', 'h', 'i', 'j', 'k', 'l', 'm', 'n', 'o', 'p', 'q', 'r', 's', 't', 'u', 'v', 'w', 'x', 'y', 'z', 'A', 'B', 'C', 'D', 'E', 'F', 'G', 'H', 'I', 'J', 'K', 'L', 'M', 'N', 'O', 'P', 'Q', 'R', 'S', 'T', 'U', 'V', 'W', 'X', 'Y', 'Z', '0', '1', '2', '3', '4', '5', '6', '7', '8', '9', '!', '?']\n",
    "\n",
    "ie, lowercase letters, uppercase letters, numerical digits, question marks, and exclamation marks."
   ]
  },
  {
   "cell_type": "markdown",
   "metadata": {},
   "source": [
    "**Mode 3** accepts and uses an even more extensive list of characters:\n",
    "\n",
    "['a', 'b', 'c', 'd', 'e', 'f', 'g', 'h', 'i', 'j', 'k', 'l', 'm', 'n', 'o', 'p', 'q', 'r', 's', 't', 'u', 'v', 'w', 'x', 'y', 'z', 'A', 'B', 'C', 'D', 'E', 'F', 'G', 'H', 'I', 'J', 'K', 'L', 'M', 'N', 'O', 'P', 'Q', 'R', 'S', 'T', 'U', 'V', 'W', 'X', 'Y', 'Z', '0', '1', '2', '3', '4', '5', '6', '7', '8', '9', '!', '?', '.', ',', ':', ';', ')', '(', '_', '+', '-', '=', '<', '>', '%', '*', '/', '$', '&']"
   ]
  },
  {
   "cell_type": "markdown",
   "metadata": {},
   "source": [
    "The mode is inferred by the Machine object from the number of digits in the key. If the key has 12 digits, mode 1 is used; if it has 16 digits, mode 2 is used; and if it has 18 digits, mode 3 is used. Attempting to encrypt or decrypt a message containing characters that are not accepted by a particular mode will result in an error. "
   ]
  },
  {
   "cell_type": "markdown",
   "metadata": {},
   "source": [
    "## Voilà!"
   ]
  }
 ],
 "metadata": {
  "kernelspec": {
   "display_name": "Python 3",
   "language": "python",
   "name": "python3"
  },
  "language_info": {
   "codemirror_mode": {
    "name": "ipython",
    "version": 3
   },
   "file_extension": ".py",
   "mimetype": "text/x-python",
   "name": "python",
   "nbconvert_exporter": "python",
   "pygments_lexer": "ipython3",
   "version": "3.7.6"
  }
 },
 "nbformat": 4,
 "nbformat_minor": 4
}
